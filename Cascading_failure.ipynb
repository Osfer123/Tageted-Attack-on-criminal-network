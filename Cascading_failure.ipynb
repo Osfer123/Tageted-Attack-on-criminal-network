{
 "cells": [
  {
   "cell_type": "code",
   "execution_count": 9,
   "id": "b0a8501e",
   "metadata": {},
   "outputs": [],
   "source": [
    "import networkx as nx\n",
    "import pandas as pd\n",
    "from PIL import Image, ImageDraw\n",
    "import io\n",
    "import random\n",
    "import matplotlib.pyplot as plt"
   ]
  },
  {
   "cell_type": "code",
   "execution_count": 25,
   "id": "50291677",
   "metadata": {},
   "outputs": [
    {
     "name": "stdout",
     "output_type": "stream",
     "text": [
      "Removed Nodes: ['Cártel de Sinaloa', 'Cártel Jalisco Nueva Generación', 'Cárteles Unidos', 'Cártel de Santa Rosa de Lima', 'Cártel Nueva Plaza', 'La Unión León', 'Los Zambada', 'Los Viagra', 'Gente Nueva', 'La Nueva Empresa', 'Los Salazar', 'Los Guzmán', 'Organización criminal de la familia Meza Flores', 'Los Negros', 'Los Escudero', 'La Línea', 'La Unión Tepito', 'Sindicato Libertad', 'La Nueva Familia Michoacana', 'Los Arzate', 'Familia Núñez Meza', 'Los Zetas Vieja Escuela', 'Cártel de Oaxaca', 'Cártel de Los Arellano Félix', 'Los Paredes', 'Los Páez', 'Los Rojos', 'Cártel de Tepalcatepec', 'Banda de El América', 'Banda del Gato', 'Cártel de Ensenada', 'Fuerzas Especiales Grupo Sombra', 'Cártel de Tláhuac', 'Cártel del Pelón de Playas', 'Los Rodolfos', 'Los Merino', 'Guerreros Unidos', 'Los Pulido', 'Los Salgueiro', 'Fuerza Rural Comunitaria de Pueblos del Norte de Culiacán', 'Fuerzas Especiales Mexicles', 'Los Cazadores', 'La Ronda 88', 'Los Artistas Asesinos', 'Los Peques', 'Los Tena', 'Los Cabrera', 'Los Uriarte', 'Cártel del Noreste', 'Los Escorpiones', 'Sangre Nueva Guerrerense']\n"
     ]
    }
   ],
   "source": [
    "df = pd.read_csv('Alliances.csv')\n",
    "G = nx.from_pandas_edgelist(df,'Side_a', 'Side_b')\n",
    "\n",
    "# Load the edgelist from the CSV file, skipping rows with missing values\n",
    "def load_network_from_csv(filename):\n",
    "    df = pd.read_csv(filename)\n",
    "    df = df.dropna(subset=['Side_a', 'Side_b'])  # Skip rows with missing 'grupo' or 'aliado'\n",
    "    G = nx.Graph()  # Create an empty graph\n",
    "    for _, row in df.iterrows():\n",
    "        source = row['Side_a']\n",
    "        target = row['Side_b']\n",
    "        # Encode node labels as UTF-8 to handle special characters\n",
    "        source = source.encode('utf-8').decode('utf-8')\n",
    "        target = target.encode('utf-8').decode('utf-8')\n",
    "        G.add_edge(source, target)\n",
    "    return G\n",
    "\n",
    "# Perform a cascading failure simulation\n",
    "def cascading_failure_simulation(G):\n",
    "    failed_nodes = []\n",
    "    simulations = []\n",
    "\n",
    "    while G.number_of_edges() > 0:\n",
    "        simulations.append(G.copy())  # Save a copy of the current network state\n",
    "        \n",
    "        # Calculate degree centrality for remaining nodes\n",
    "        node_degrees = dict(G.degree())\n",
    "        \n",
    "        # Find the node with the highest degree centrality among remaining nodes\n",
    "        max_degree_node = max(node_degrees, key=node_degrees.get)\n",
    "        \n",
    "        # Highlight the node to be removed in the next step\n",
    "        highlighted_node = max_degree_node\n",
    "        \n",
    "        # Fail the node with the highest degree centrality\n",
    "        failed_nodes.append(max_degree_node)\n",
    "        \n",
    "        # Remove the node and its incident edges from the network\n",
    "        G.remove_node(max_degree_node)\n",
    "    \n",
    "    return simulations, failed_nodes\n",
    "\n",
    "# Load the network from CSV\n",
    "edgelist_file = 'Alliances.csv'\n",
    "network = load_network_from_csv(edgelist_file)\n",
    "\n",
    "# Run the cascading failure simulation\n",
    "simulations, removed_nodes = cascading_failure_simulation(network)\n",
    "\n",
    "# Create a GIF to visualize each iteration with consistent node positions\n",
    "frames = []\n",
    "pos = nx.spring_layout(simulation, k=.25, iterations=50, seed=42)  # Initial layout positions\n",
    "for i, simulation in enumerate(simulations):\n",
    "    plt.figure(figsize=(30, 20))\n",
    "    \n",
    "    nx.draw_networkx_nodes(simulation, pos=pos, edgecolors='black', node_size=1600, node_color='blue')\n",
    "    nx.draw_networkx_labels(simulation, pos, font_size=14, font_color='black')\n",
    "    nx.draw_networkx_edges(simulation, pos=pos, width=4, edge_color='green')\n",
    "    plt.title(f'Step {i + 1}: Node Removal (Degree Centrality)')\n",
    "\n",
    "    \n",
    "# Highlight the node to be removed in this step\n",
    "    nx.draw_networkx_nodes(simulation, pos, nodelist=[removed_nodes[i]], edgecolors='black', node_color='red', node_size=2600)\n",
    "    \n",
    "    # Save the current plot as an image\n",
    "    buf = io.BytesIO()\n",
    "    plt.savefig(buf, format='png')\n",
    "    buf.seek(0)\n",
    "    frames.append(Image.open(buf))\n",
    "    plt.close()\n",
    "\n",
    "# Save the frames as a GIF\n",
    "frames[0].save('cascading_failure_animation.gif', bbox_inches='tight', save_all=True, append_images=frames[1:], duration=1000, loop=0)\n",
    "\n",
    "# Print the list of removed nodes\n",
    "print(\"Removed Nodes:\", removed_nodes)"
   ]
  },
  {
   "cell_type": "code",
   "execution_count": null,
   "id": "fc20505e",
   "metadata": {},
   "outputs": [],
   "source": []
  }
 ],
 "metadata": {
  "kernelspec": {
   "display_name": "Python 3 (ipykernel)",
   "language": "python",
   "name": "python3"
  },
  "language_info": {
   "codemirror_mode": {
    "name": "ipython",
    "version": 3
   },
   "file_extension": ".py",
   "mimetype": "text/x-python",
   "name": "python",
   "nbconvert_exporter": "python",
   "pygments_lexer": "ipython3",
   "version": "3.10.9"
  }
 },
 "nbformat": 4,
 "nbformat_minor": 5
}
